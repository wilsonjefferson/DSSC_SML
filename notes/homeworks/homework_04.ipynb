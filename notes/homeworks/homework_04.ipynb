{
 "cells": [
  {
   "cell_type": "markdown",
   "metadata": {},
   "source": [
    "# HOMEWORK 04\n",
    "\n",
    "## Exercise 1\n",
    "\n",
    "Let $\\theta_1$ and $\\theta_2$ be real valued parameters of the model\n",
    "\n",
    "$$y = \\frac{\\theta_{1}\\cdot x}{\\theta_{2} + x}$$\n",
    "\n",
    "a) Choose two suitable prior distributions for $\\theta_1$ and $\\theta_2$ and use HMC algorithm to find their posterior distributions, conditioning on the observations.\n",
    "\n",
    "$x = (28, 55, 110, 138, 225, 375), \\space \\space \\space y = (0.053, 0.060, 0.112, 0.105, 0.099, 0.122)$"
   ]
  },
  {
   "cell_type": "code",
   "execution_count": 1,
   "metadata": {},
   "outputs": [],
   "source": [
    "import torch\n",
    "import numpy as np\n",
    "import matplotlib.pyplot as plt\n",
    "import seaborn as sns\n",
    "import pyro\n",
    "import pyro.distributions as dist\n",
    "from tabulate import tabulate\n",
    "from pyro.infer.mcmc import MCMC, HMC, NUTS\n",
    "pyro.set_rng_seed(0)"
   ]
  },
  {
   "cell_type": "code",
   "execution_count": 3,
   "metadata": {},
   "outputs": [],
   "source": [
    "def model(x, distribution:dist, arg):\n",
    "    \n",
    "    \"\"\"\n",
    "    This function generate the model\n",
    "    \n",
    "    Parameters\n",
    "    ----------\n",
    "    x           : list\n",
    "        it is a list of the independent values, \n",
    "        according the relationship between x and y\n",
    "    distribution: pyro.distribution (dist)\n",
    "        it is the distribution of the theta parameters \n",
    "        by which we are going to sample\n",
    "    arg         : list of lists\n",
    "        it is the list of elemntes for the distributions\n",
    "        \n",
    "    Returns\n",
    "    -------\n",
    "    obsorved output y\n",
    "    \"\"\"\n",
    "\n",
    "    theta_1 = pyro.sample(\"theta_1\", distribution(arg[0][0], arg[0][1]))\n",
    "    theta_2 = pyro.sample(\"theta_2\", distribution(arg[1][0], arg[1][1]))\n",
    "    \n",
    "    yhat = (theta_1*x)/(theta_2+x)\n",
    "    y_data = pyro.sample(\"y_data\", dist.Normal(yhat,1))\n",
    "    \n",
    "    return y_data"
   ]
  },
  {
   "cell_type": "code",
   "execution_count": 2,
   "metadata": {},
   "outputs": [
    {
     "ename": "NameError",
     "evalue": "name 'model' is not defined",
     "output_type": "error",
     "traceback": [
      "\u001b[0;31m---------------------------------------------------------------------------\u001b[0m",
      "\u001b[0;31mNameError\u001b[0m                                 Traceback (most recent call last)",
      "\u001b[0;32m<ipython-input-2-e9850d92398f>\u001b[0m in \u001b[0;36m<module>\u001b[0;34m\u001b[0m\n\u001b[1;32m      9\u001b[0m \u001b[0mparam\u001b[0m \u001b[0;34m=\u001b[0m \u001b[0;34m[\u001b[0m\u001b[0;34m[\u001b[0m\u001b[0;36m0\u001b[0m\u001b[0;34m,\u001b[0m \u001b[0;36m1\u001b[0m\u001b[0;34m]\u001b[0m\u001b[0;34m,\u001b[0m \u001b[0;34m[\u001b[0m\u001b[0;36m0\u001b[0m\u001b[0;34m,\u001b[0m \u001b[0;36m1\u001b[0m\u001b[0;34m]\u001b[0m\u001b[0;34m]\u001b[0m\u001b[0;34m\u001b[0m\u001b[0;34m\u001b[0m\u001b[0m\n\u001b[1;32m     10\u001b[0m \u001b[0;34m\u001b[0m\u001b[0m\n\u001b[0;32m---> 11\u001b[0;31m \u001b[0mcond_model\u001b[0m \u001b[0;34m=\u001b[0m \u001b[0mpyro\u001b[0m\u001b[0;34m.\u001b[0m\u001b[0mcondition\u001b[0m\u001b[0;34m(\u001b[0m\u001b[0mmodel\u001b[0m\u001b[0;34m,\u001b[0m \u001b[0mdata\u001b[0m\u001b[0;34m=\u001b[0m\u001b[0;34m{\u001b[0m\u001b[0;34m\"y_data\"\u001b[0m\u001b[0;34m:\u001b[0m \u001b[0my\u001b[0m\u001b[0;34m}\u001b[0m\u001b[0;34m)\u001b[0m\u001b[0;34m\u001b[0m\u001b[0;34m\u001b[0m\u001b[0m\n\u001b[0m\u001b[1;32m     12\u001b[0m \u001b[0mresult_1\u001b[0m \u001b[0;34m=\u001b[0m \u001b[0mmodel\u001b[0m\u001b[0;34m(\u001b[0m\u001b[0mx\u001b[0m\u001b[0;34m,\u001b[0m \u001b[0mdistribution\u001b[0m\u001b[0;34m,\u001b[0m \u001b[0marg\u001b[0m \u001b[0;34m=\u001b[0m \u001b[0mparam\u001b[0m\u001b[0;34m)\u001b[0m\u001b[0;34m\u001b[0m\u001b[0;34m\u001b[0m\u001b[0m\n\u001b[1;32m     13\u001b[0m \u001b[0mresult_2\u001b[0m \u001b[0;34m=\u001b[0m \u001b[0mcond_model\u001b[0m\u001b[0;34m(\u001b[0m\u001b[0mx\u001b[0m\u001b[0;34m,\u001b[0m \u001b[0mdistribution\u001b[0m\u001b[0;34m,\u001b[0m \u001b[0marg\u001b[0m \u001b[0;34m=\u001b[0m \u001b[0mparam\u001b[0m\u001b[0;34m)\u001b[0m\u001b[0;34m\u001b[0m\u001b[0;34m\u001b[0m\u001b[0m\n",
      "\u001b[0;31mNameError\u001b[0m: name 'model' is not defined"
     ]
    }
   ],
   "source": [
    "'''\n",
    "Base case: it is used to check the right operation of the model\n",
    "'''\n",
    "\n",
    "x = torch.tensor([25, 55, 110, 138, 225, 375])\n",
    "y = torch.tensor([0.053,0.060,0.112,0.105,0.099,0.122])\n",
    "\n",
    "distribution = dist.Normal # or Exponential (in this case change param)\n",
    "param = [[0, 1], [0, 1]]\n",
    "\n",
    "cond_model = pyro.condition(model, data={\"y_data\": y})\n",
    "result_1 = model(x, distribution, arg = param)\n",
    "result_2 = cond_model(x, distribution, arg = param)\n",
    "\n",
    "print(\"independent model result:\", result_1)\n",
    "print(\"conditioned model result:\", result_2)"
   ]
  },
  {
   "cell_type": "markdown",
   "metadata": {},
   "source": [
    "b) Discuss how different parameters for both priors and the HMC algorithm lead to different estimates.\n",
    "\n"
   ]
  },
  {
   "cell_type": "markdown",
   "metadata": {},
   "source": [
    "1. discussion about the parameters for the priors\n",
    "\n",
    "The given model fixes a clear relationship between 𝑥 and 𝑦, with the presence of the two parameters $𝜃_1$ and $𝜃_2$ (we may use $\\theta = (\\theta_{1}, \\theta_{2})^{T}$); so, this relationship has to be seen us a constrain on the possible values assumed by our parameters. Moreover, 𝑥 and 𝑦 are observed and they lead to consider as suitable prior distributions, distributions that may offer real and positive values, as for example: a normal, a log-normal, an exponential or an inverse-gamma distribution for the two 𝜃. \n",
    "\n",
    "Under these assumptions, suppose to consider a normal distribution from which we obtain $𝜃_1 = 1$ and $𝜃_2 = 2$. They may satisfy our relation, but what might be happened if we consider an exponential distribution? Well, could be the case that they are not so good and this because we are changing the range of the parameters space. In conclusion, may exist other tuples satisfying the relationship, and so leading to a different estimates for our $\\theta$.\n",
    "\n",
    "2. discussion about the HMC algorithm's parameters\n",
    "\n",
    "There are few parameters that manage the Markov Chain Algorithm: number of samples to mining, number of samples burned-in and number of chains; all of them are relevant to obtain a good approximation, so let's look them in more details.\n",
    "\n",
    "__number of samples__\n",
    "\n",
    "The number of samples represent the first of this triad and it is used to set the number of sampling operation that have to be done, in other words it's the length of the Markov Chain. So, greater is this value and more samples we are asking to the algorithm (and of course more precise will be our estimation).\n",
    "\n",
    "__burn-in samples__\n",
    "\n",
    "The burned-in samples is the second of the triad, and it is used to set the number of first samples that we have to discard; the reason behind this step is to avoid any dependency from the step zero, i.e. what is the first point chosen in the parameters space. In someway, this parameter is in opposite of the number of samples because it takes away a part of our samples, than we have to add this number to the total numebr of samples. Note, we have to take into account what is the samples size before any drop operation.\n",
    "\n",
    "__number of chains__\n",
    "\n",
    "This is the last element of our triad and it represents how many chains of the Markov Chain algorithm we are considering. Basically, it set the number of chains that are growing up during the procedure (hopefully, in parallel). The reason behind this decision is to restrict the bad results, i.e. those cases leading to a poor estimate and to improve the exploration phase in the parameters space.\n",
    "\n",
    "\n",
    "Moreover, when we use this kind of algorithm it's a bad idea to set these parameters in a way that generate a huge number of samples, and this because it is very expensive in terms of computational power, space and time. Indeed, exist some indices and tools that may be useful in that sense.\n",
    "\n",
    "As we have said at the beginning of this discussion, these parameters are very relevant for all MC algorithms and they have to be settled by choosing the best trade-off."
   ]
  },
  {
   "cell_type": "markdown",
   "metadata": {},
   "source": [
    "c) Plot the most reliable posterior distributions, according to convergence checks on the traces."
   ]
  },
  {
   "cell_type": "code",
   "execution_count": 21,
   "metadata": {},
   "outputs": [],
   "source": [
    "def mcmc_analysis(data, distr, arg, triad=[1000, 100, 3], detail=False):\n",
    "    \n",
    "    \"\"\"\n",
    "    This function perform the mcmc analysis on the model\n",
    "    \n",
    "    Parameters\n",
    "    ----------\n",
    "    data  : list of tensor\n",
    "        it contains the knowen data, i.e. x and y\n",
    "    distr : pyro.distribution\n",
    "        it is the proposal distribution as prior distribution for theta\n",
    "    arg   : list of lists\n",
    "        it is the parameters for the distribution\n",
    "    triad : list\n",
    "        it is the triplet of the MC parameters\n",
    "    detail: bool\n",
    "        it is used to decide if show more information\n",
    "        \n",
    "    Returns\n",
    "    -------\n",
    "    neff         : integer\n",
    "        the number of effective sample size\n",
    "    mcmc_samples : dictionary\n",
    "        the samples for the theta paramters\n",
    "    \"\"\"\n",
    "    \n",
    "    cond_model = pyro.condition(model, data={\"y_data\": data[1]})\n",
    "    hmc_kernel = HMC(model=cond_model) # transition kernel\n",
    "    mcmc = MCMC(hmc_kernel, num_samples=triad[0], \n",
    "                warmup_steps=triad[1], num_chains=triad[2])\n",
    "    \n",
    "    # posteriors and samples\n",
    "    posterior = mcmc.run(data[0], distr, arg = arg)\n",
    "    mcmc_samples = mcmc.get_samples(group_by_chain=True)\n",
    "    \n",
    "    mcmc.summary()\n",
    "\n",
    "    if detail: # set it to \"False\" if you don't want to print other information\n",
    "    \n",
    "        keys = [\"theta_1\", \"theta_2\"]\n",
    "\n",
    "        for key in keys:\n",
    "            chains = mcmc_samples[key]\n",
    "\n",
    "            n_chains, n_samples = chains.shape\n",
    "            print(chains.shape)\n",
    "\n",
    "            fig, ax = plt.subplots(1, n_chains, figsize=(12,3))\n",
    "            for i, chain in enumerate(chains):\n",
    "                sns.lineplot(x=range(n_samples), y=chain, ax=ax[i])\n",
    "                ax[i].set_title(\"chain \"+str(i+1))\n",
    "\n",
    "        print(\"expected theta_1 =\", mcmc_samples[\"theta_1\"].mean().item())\n",
    "        print(\"expected theta_2 =\", mcmc_samples[\"theta_2\"].mean().item())\n",
    "\n",
    "        # plot\n",
    "        fig, axes = plt.subplots(1, 2, figsize=(12,4))\n",
    "\n",
    "        sns.distplot(mcmc_samples['theta_1'], ax=axes[0])\n",
    "        axes[0].set_title('P( theta_1 | measurement=obs )')\n",
    "        axes[0].set_xlabel('theta_1')\n",
    "\n",
    "        sns.distplot(mcmc_samples['theta_2'], ax=axes[1])\n",
    "        axes[1].set_title('P( theta_2 | measurement=obs )')\n",
    "        axes[1].set_xlabel('theta_2')\n",
    "\n",
    "        plt.show()\n",
    "    \n",
    "    print(\"diag:\", mcmc.diagnostics())\n",
    "    \n",
    "    #extract the greater r_hat index between the two theta\n",
    "    r_hat = [list(mcmc.diagnostics()['theta_1'].items())[1], \n",
    "             list(mcmc.diagnostics()['theta_2'].items())[1]]\n",
    "    \n",
    "    r_hat = max(r_hat)[1].item() # taken from the tuple\n",
    "    \n",
    "    if r_hat > 0.97 or r_hat <= 1.1: # establish the accept range (convergence)\n",
    "        # store the lowest n_eff between the two theta\n",
    "        neff = [list(mcmc.diagnostics()['theta_1'].items())[0], \n",
    "                list(mcmc.diagnostics()['theta_2'].items())[0]]\n",
    "    \n",
    "        neff = min(neff)[1].item() # it is extracted from the tuple\n",
    "        \n",
    "        return [neff, mcmc_samples]\n",
    "    else: # this chain is divergent, so we can ignore it\n",
    "        return [0, None]"
   ]
  },
  {
   "cell_type": "code",
   "execution_count": 7,
   "metadata": {},
   "outputs": [],
   "source": [
    "'''\n",
    "information on the model and MCMC paramters\n",
    "'''\n",
    "\n",
    "# observations\n",
    "x = torch.tensor([25, 55, 110, 138, 225, 375])\n",
    "y = torch.tensor([0.053,0.060,0.112,0.105,0.099,0.122])\n",
    "data_xy = [x, y]\n",
    "\n",
    "# MC triad\n",
    "mc_param = [100, 10, 3]"
   ]
  },
  {
   "cell_type": "code",
   "execution_count": 22,
   "metadata": {},
   "outputs": [
    {
     "data": {
      "application/vnd.jupyter.widget-view+json": {
       "model_id": "d555c77fa82b4524a128986f2639db74",
       "version_major": 2,
       "version_minor": 0
      },
      "text/plain": [
       "HBox(children=(FloatProgress(value=0.0, description='Warmup [1]', max=110.0, style=ProgressStyle(description_w…"
      ]
     },
     "metadata": {},
     "output_type": "display_data"
    },
    {
     "data": {
      "application/vnd.jupyter.widget-view+json": {
       "model_id": "0d7475cf90ae4fffb5e0fa6ae5197cd2",
       "version_major": 2,
       "version_minor": 0
      },
      "text/plain": [
       "HBox(children=(FloatProgress(value=0.0, description='Warmup [2]', max=110.0, style=ProgressStyle(description_w…"
      ]
     },
     "metadata": {},
     "output_type": "display_data"
    },
    {
     "data": {
      "application/vnd.jupyter.widget-view+json": {
       "model_id": "bce70642f69247e1be0be0a944ab26d9",
       "version_major": 2,
       "version_minor": 0
      },
      "text/plain": [
       "HBox(children=(FloatProgress(value=0.0, description='Warmup [3]', max=110.0, style=ProgressStyle(description_w…"
      ]
     },
     "metadata": {},
     "output_type": "display_data"
    },
    {
     "name": "stdout",
     "output_type": "stream",
     "text": [
      "\n",
      "\n",
      "\n",
      "\n",
      "                mean       std    median      5.0%     95.0%     n_eff     r_hat\n",
      "   theta_1      0.07      0.37      0.10     -0.49      0.65    475.35      1.00\n",
      "   theta_2     -0.60      0.28     -0.52     -1.11     -0.33     26.62      1.12\n",
      "\n",
      "Number of divergences: 0\n",
      "diag: {'theta_1': OrderedDict([('n_eff', tensor(475.3474)), ('r_hat', tensor(0.9992))]), 'theta_2': OrderedDict([('n_eff', tensor(26.6185)), ('r_hat', tensor(1.1158))]), 'divergences': {'chain 0': [], 'chain 1': [], 'chain 2': []}, 'acceptance rate': {'chain 0': 0.95, 'chain 1': 0.93, 'chain 2': 0.84}}\n"
     ]
    }
   ],
   "source": [
    "'''\n",
    "base case: it is used to show the operation analysis\n",
    "'''\n",
    "\n",
    "# candidate distribution and its arguments\n",
    "distribution = dist.Normal\n",
    "argument = [[0, 1], [0, 1]]\n",
    "\n",
    "# mcmc analysis (we don't care about the return in this case)\n",
    "tmp = mcmc_analysis(data_xy, distribution, argument, mc_param, False)"
   ]
  },
  {
   "cell_type": "code",
   "execution_count": 14,
   "metadata": {},
   "outputs": [
    {
     "data": {
      "application/vnd.jupyter.widget-view+json": {
       "model_id": "ac6c9eff1e3b4fc7bd0e6b4f0fb54657",
       "version_major": 2,
       "version_minor": 0
      },
      "text/plain": [
       "HBox(children=(FloatProgress(value=0.0, description='Warmup [1]', max=3500.0, style=ProgressStyle(description_…"
      ]
     },
     "metadata": {},
     "output_type": "display_data"
    },
    {
     "data": {
      "application/vnd.jupyter.widget-view+json": {
       "model_id": "3af08a735db1410ba83afe0f729445ab",
       "version_major": 2,
       "version_minor": 0
      },
      "text/plain": [
       "HBox(children=(FloatProgress(value=0.0, description='Warmup [2]', max=3500.0, style=ProgressStyle(description_…"
      ]
     },
     "metadata": {},
     "output_type": "display_data"
    },
    {
     "data": {
      "application/vnd.jupyter.widget-view+json": {
       "model_id": "8d26f7711d164f6a8b8252130a73e717",
       "version_major": 2,
       "version_minor": 0
      },
      "text/plain": [
       "HBox(children=(FloatProgress(value=0.0, description='Warmup [3]', max=3500.0, style=ProgressStyle(description_…"
      ]
     },
     "metadata": {},
     "output_type": "display_data"
    },
    {
     "name": "stdout",
     "output_type": "stream",
     "text": [
      "\n",
      "\n",
      "\n",
      "\n",
      "                mean       std    median      5.0%     95.0%     n_eff     r_hat\n",
      "   theta_1      0.08      0.37      0.08     -0.50      0.72   5699.94      1.00\n",
      "   theta_2      0.01      1.00      0.02     -1.65      1.64   1402.29      1.00\n",
      "\n",
      "Number of divergences: 0\n"
     ]
    },
    {
     "data": {
      "application/vnd.jupyter.widget-view+json": {
       "model_id": "aee0e2d6254745de9b780d32044d9a3b",
       "version_major": 2,
       "version_minor": 0
      },
      "text/plain": [
       "HBox(children=(FloatProgress(value=0.0, description='Warmup [1]', max=3500.0, style=ProgressStyle(description_…"
      ]
     },
     "metadata": {},
     "output_type": "display_data"
    },
    {
     "data": {
      "application/vnd.jupyter.widget-view+json": {
       "model_id": "8937d1df52f54473b81ab55ef9772e70",
       "version_major": 2,
       "version_minor": 0
      },
      "text/plain": [
       "HBox(children=(FloatProgress(value=0.0, description='Warmup [2]', max=3500.0, style=ProgressStyle(description_…"
      ]
     },
     "metadata": {},
     "output_type": "display_data"
    },
    {
     "data": {
      "application/vnd.jupyter.widget-view+json": {
       "model_id": "93b9e4bc29f64ceab1f7ea5b9ec89e34",
       "version_major": 2,
       "version_minor": 0
      },
      "text/plain": [
       "HBox(children=(FloatProgress(value=0.0, description='Warmup [3]', max=3500.0, style=ProgressStyle(description_…"
      ]
     },
     "metadata": {},
     "output_type": "display_data"
    },
    {
     "name": "stdout",
     "output_type": "stream",
     "text": [
      "\n",
      "\n",
      "\n",
      "\n",
      "                mean       std    median      5.0%     95.0%     n_eff     r_hat\n",
      "   theta_1      0.24      0.41      0.27     -0.42      0.92     22.78      1.08\n",
      "   theta_2      1.05      2.98      1.07     -3.84      6.00   1906.26      1.00\n",
      "\n",
      "Number of divergences: 0\n"
     ]
    },
    {
     "data": {
      "application/vnd.jupyter.widget-view+json": {
       "model_id": "74e00a81168a40d1b35039b9b310b6ec",
       "version_major": 2,
       "version_minor": 0
      },
      "text/plain": [
       "HBox(children=(FloatProgress(value=0.0, description='Warmup [1]', max=3500.0, style=ProgressStyle(description_…"
      ]
     },
     "metadata": {},
     "output_type": "display_data"
    },
    {
     "data": {
      "application/vnd.jupyter.widget-view+json": {
       "model_id": "4c219ebf66f348638235db9056e074d5",
       "version_major": 2,
       "version_minor": 0
      },
      "text/plain": [
       "HBox(children=(FloatProgress(value=0.0, description='Warmup [2]', max=3500.0, style=ProgressStyle(description_…"
      ]
     },
     "metadata": {},
     "output_type": "display_data"
    },
    {
     "data": {
      "application/vnd.jupyter.widget-view+json": {
       "model_id": "2c3fa351bb2e4cab8971a47a33496411",
       "version_major": 2,
       "version_minor": 0
      },
      "text/plain": [
       "HBox(children=(FloatProgress(value=0.0, description='Warmup [3]', max=3500.0, style=ProgressStyle(description_…"
      ]
     },
     "metadata": {},
     "output_type": "display_data"
    },
    {
     "name": "stdout",
     "output_type": "stream",
     "text": [
      "\n",
      "\n",
      "\n",
      "\n",
      "                mean       std    median      5.0%     95.0%     n_eff     r_hat\n",
      "   theta_1      0.16      0.14      0.12      0.00      0.35   2846.40      1.00\n",
      "   theta_2      0.21      0.21      0.15      0.00      0.49   1227.51      1.00\n",
      "\n",
      "Number of divergences: 0\n"
     ]
    },
    {
     "data": {
      "application/vnd.jupyter.widget-view+json": {
       "model_id": "c98b4c7739d24727a8304d94251ebb72",
       "version_major": 2,
       "version_minor": 0
      },
      "text/plain": [
       "HBox(children=(FloatProgress(value=0.0, description='Warmup [1]', max=3500.0, style=ProgressStyle(description_…"
      ]
     },
     "metadata": {},
     "output_type": "display_data"
    },
    {
     "data": {
      "application/vnd.jupyter.widget-view+json": {
       "model_id": "6a94952f023040f3a3d58b835c7b2ed3",
       "version_major": 2,
       "version_minor": 0
      },
      "text/plain": [
       "HBox(children=(FloatProgress(value=0.0, description='Warmup [2]', max=3500.0, style=ProgressStyle(description_…"
      ]
     },
     "metadata": {},
     "output_type": "display_data"
    },
    {
     "data": {
      "application/vnd.jupyter.widget-view+json": {
       "model_id": "8044a562fc0f4891b5f9a8b405eeca9a",
       "version_major": 2,
       "version_minor": 0
      },
      "text/plain": [
       "HBox(children=(FloatProgress(value=0.0, description='Warmup [3]', max=3500.0, style=ProgressStyle(description_…"
      ]
     },
     "metadata": {},
     "output_type": "display_data"
    },
    {
     "name": "stdout",
     "output_type": "stream",
     "text": [
      "\n",
      "\n",
      "\n",
      "\n",
      "                mean       std    median      5.0%     95.0%     n_eff     r_hat\n",
      "   theta_1      0.20      0.12      0.17      0.06      0.36    532.96      1.01\n",
      "   theta_2      0.25      0.23      0.18      0.06      0.46   1067.54      1.00\n",
      "\n",
      "Number of divergences: 0\n",
      "the most reliable distribution is: <class 'pyro.distributions.torch.Normal'>\n",
      "with parameters: [[0, 1], [0, 1]]\n"
     ]
    }
   ],
   "source": [
    "'''\n",
    "searching for the most reliable posterior distributions\n",
    "'''\n",
    "\n",
    "# candidate distributions and their arguments\n",
    "distribution = [dist.Normal, dist.Normal, \n",
    "                dist.Exponential, dist.InverseGamma]\n",
    "argument = [[[0, 1], [0, 1]], [[1, 3], [1, 3]], \n",
    "            [[5, None], [5, None]], [[3, 0.5], [3, 0.5]]]\n",
    "\n",
    "# repeat mcmc analysis for all these distributions\n",
    "neff = None\n",
    "for i in range(len(distribution)):\n",
    "    tmp_neff, tmp_samples = mcmc_analysis(data_xy, distribution[i], \n",
    "                                          argument[i], mc_param)\n",
    "    \n",
    "    # we are basing on the n_eff to pick up \n",
    "    # the most reliable posterior distribution\n",
    "    if neff is None or tmp_neff > neff: \n",
    "        neff = tmp_neff\n",
    "        mcmc_samples = tmp_samples\n",
    "        reliable = i\n",
    "        \n",
    "print(\"the most reliable distribution is:\", distribution[reliable])\n",
    "print(\"with parameters:\", argument[reliable])"
   ]
  },
  {
   "cell_type": "markdown",
   "metadata": {},
   "source": [
    "## Exercise 2\n",
    "\n",
    "A bivariate Gibbs sampler for a vector $x=(x_1,x_2)$ draws iteratively from the posterior conditional distributions in the following way:\n",
    "\n",
    "- choose a starting value $p(x_1|x_2^{(0)})$\n",
    "- for each iteration $i$:\n",
    "  - draw $x_2(i)$ from $p(x_2|x_1^{(i-1)})$\n",
    "  - draw $x_1(i)$ from $p(x_1|x_2^{(i)})$\n",
    "  \n",
    "a) Supposing that samples are drawn from a bivariate normal distribution:\n",
    "$$ {x_1 \\choose x_2} \\sim \\mathcal{N} \\Bigg[ {0 \\choose 0} , \\begin{pmatrix} 1 & \\rho \\\\ \\rho & 1 \\end{pmatrix} \\Bigg], $$\n",
    "\n",
    "implement a Gibbs sampler for $x$ which takes as inputs the number of iterations `iters` and the number of warmup draws `warmup`."
   ]
  },
  {
   "cell_type": "code",
   "execution_count": 15,
   "metadata": {},
   "outputs": [],
   "source": [
    "def conditional_dist(joint_mu, joint_cov, index, var):\n",
    "    \n",
    "    \"\"\"\n",
    "    This function compute the posterior conditioned \n",
    "    distribution for a bivariate normal distribution\n",
    "    \n",
    "    Parameters\n",
    "    ----------\n",
    "    joint_mu : list of real number\n",
    "        it is the mean of the bivariate normal distribution\n",
    "    joint_cov: covariance matrix\n",
    "        it is the covariance matrix of the bivariate distribution\n",
    "    index    : integer value choosen between 0 and 1\n",
    "        it defines the parameter for which there is conditioning\n",
    "    var      : real value\n",
    "        it is the value assumed by \"param[index]\"\n",
    "        \n",
    "    Returns\n",
    "    -------\n",
    "    Normal distribution: N(mu, sigma)\n",
    "    \"\"\"\n",
    "    \n",
    "    mu_x = joint_mu[~index] # mu[0]\n",
    "    mu_y = joint_mu[index] # mu[1]\n",
    "    \n",
    "    cov_x = joint_cov[~index][~index] # cov[0][0]\n",
    "    cov_y = joint_cov[index][index]   # cov[1][1]\n",
    "    cov_xy = joint_cov[~index][index] # cov[0][1]\n",
    "    cov_yx = joint_cov[index][~index] # cov[1][0]\n",
    "    \n",
    "    inv_y = 1 / cov_y # cov[1][1] ^ (-1)\n",
    "    \n",
    "    mu = mu_x + cov_xy * inv_y * (var.item() - mu_y)\n",
    "    sigma = cov_x - cov_xy * inv_y * cov_yx\n",
    "    \n",
    "    return dist.Normal(mu, sigma)"
   ]
  },
  {
   "cell_type": "code",
   "execution_count": 16,
   "metadata": {},
   "outputs": [],
   "source": [
    "def gibbs_sampler(iters, warmup, mu=[0, 0], rho=0.7):\n",
    "    \n",
    "    \"\"\"\n",
    "    This function allows to sample according with the Gibbs Algorithm\n",
    "    \n",
    "    Parameters\n",
    "    ----------\n",
    "    iters : integer\n",
    "        number of sampling that have to be perform\n",
    "    warmup: integer\n",
    "        number of first samples discarded\n",
    "    mu    : list of real number\n",
    "        mean of the bivariate normal distribution\n",
    "    rho   : real number in the range [-1, 1]\n",
    "        correlation coefficient between the parameters\n",
    "        \n",
    "    Returns\n",
    "    -------\n",
    "    list of samples\n",
    "    \"\"\"\n",
    "    \n",
    "    assert rho >= -1 and rho <= +1 # just to be sure...\n",
    "    \n",
    "    cov = [[1, rho], [rho, 1]]\n",
    "    var_given = [0, 1] # index of the given variable: 0 = x_1, 1 = x_2\n",
    "    \n",
    "    samples = []\n",
    "    x_1 = pyro.sample(\"x_1\", dist.Normal(0, 1)) # start state\n",
    "    \n",
    "    for i in range(iters):\n",
    "        # conditioned by x_1\n",
    "        x_2 = pyro.sample(\"x_2\", conditional_dist(mu, cov, var_given[0], x_1))\n",
    "        # conditioned by x_2\n",
    "        x_1 = pyro.sample(\"x_1\", conditional_dist(mu, cov, var_given[1], x_2))\n",
    "    \n",
    "        samples.append([x_1.item(), x_2.item()]) # store the new state (x_1, x_2)\n",
    "        \n",
    "    return samples[warmup : ] # burn-in the first samples"
   ]
  },
  {
   "cell_type": "code",
   "execution_count": 24,
   "metadata": {},
   "outputs": [
    {
     "data": {
      "text/plain": [
       "<seaborn.axisgrid.JointGrid at 0x7f896d378c10>"
      ]
     },
     "execution_count": 24,
     "metadata": {},
     "output_type": "execute_result"
    },
    {
     "data": {
      "image/png": "[encoded data removed]",
      "text/plain": [
       "<Figure size 432x432 with 3 Axes>"
      ]
     },
     "metadata": {
      "needs_background": "light"
     },
     "output_type": "display_data"
    }
   ],
   "source": [
    "'''\n",
    "Base case: it is used to show how works the Gibbs sampler\n",
    "'''\n",
    "\n",
    "samples = gibbs_sampler(iters = 10000, warmup = 1000)\n",
    "samples\n",
    "\n",
    "# plot\n",
    "tlist = list(zip(*samples)) # convert sample columns in two tuples\n",
    "#plt.plot(tlist[0], tlist[1]) # showing also the path...\n",
    "sns.jointplot(tlist[0], tlist[1])"
   ]
  },
  {
   "cell_type": "markdown",
   "metadata": {},
   "source": [
    "b) Use your implementation of Gibbs sampler to infer the parameters $\\theta=(\\theta_1,\\theta_2)$ from Exercise 1."
   ]
  },
  {
   "cell_type": "code",
   "execution_count": 33,
   "metadata": {},
   "outputs": [
    {
     "name": "stdout",
     "output_type": "stream",
     "text": [
      "theta_mu: [0.0833427342543275, 0.01229884534732749]\n",
      "theta_rho: -0.001411008993062955\n",
      "╒═════════╤═══════════╤═══════════╤══════════╤═════════╤════════════╤═════════════╕\n",
      "│ Param   │      Mean │    Median │      Var │     Std │   Quant 5% │   Quant 95% │\n",
      "╞═════════╪═══════════╪═══════════╪══════════╪═════════╪════════════╪═════════════╡\n",
      "│ theta_1 │ 0.0769246 │ 0.0881518 │ 1.01669  │ 1.00831 │   -1.58005 │     1.72811 │\n",
      "├─────────┼───────────┼───────────┼──────────┼─────────┼────────────┼─────────────┤\n",
      "│ theta_2 │ 0.0195726 │ 0.0188603 │ 0.981863 │ 0.99089 │   -1.59986 │     1.65431 │\n",
      "╘═════════╧═══════════╧═══════════╧══════════╧═════════╧════════════╧═════════════╛\n",
      "corr-coef: -0.0122662269363362\n"
     ]
    },
    {
     "data": {
      "image/png": "[encoded data removed]",
      "text/plain": [
       "<Figure size 432x432 with 3 Axes>"
      ]
     },
     "metadata": {
      "needs_background": "light"
     },
     "output_type": "display_data"
    }
   ],
   "source": [
    "'''\n",
    "inference on the theta parameters from the exercise 1\n",
    "'''\n",
    "\n",
    "# Suppose theta_1 and theta_2 with a bivariate normal distribution \n",
    "# as joint probability (i.e. how has been setted the gibbs_sampler).\n",
    "# We can make some inference on these paramters.\n",
    "\n",
    "# merge all the samples from different chains for both theta\n",
    "theta_1 = [item.item() for sublist in mcmc_samples[\"theta_1\"] for item in sublist]\n",
    "theta_2 = [item.item() for sublist in mcmc_samples[\"theta_2\"] for item in sublist]\n",
    "\n",
    "# compute mean and correlation coeff\n",
    "post_mu = [np.mean(theta_1), np.mean(theta_2)]\n",
    "post_rho = np.corrcoef(theta_1, theta_2)[0][1]\n",
    "\n",
    "# just to remember these values\n",
    "print(\"theta_mu:\", post_mu)\n",
    "print(\"theta_rho:\", post_rho)\n",
    "\n",
    "samples = gibbs_sampler(mu = post_mu, rho = post_rho, iters = 10000, warmup = 1000)\n",
    "\n",
    "#samples = gibbs_sampler(iters = 10000, warmup = 1000)\n",
    "theta = list(zip(*samples)) \n",
    "\n",
    "# plot\n",
    "sns.jointplot(theta[0], theta[1])\n",
    "\n",
    "# and now?... Do some statistics!\n",
    "\n",
    "# compute the given statistic function\n",
    "stat = lambda fun, value: [fun(theta[i], value) for i in range(2)]\n",
    "\n",
    "# statistic function and argument for each statistic\n",
    "fnc = [np.mean, np.median, np.var, np.std, np.quantile, np.quantile]\n",
    "val = [None, None, None, None, 0.05, 0.95]\n",
    "\n",
    "# store statistics\n",
    "name = [[\"theta_1\", \"theta_2\"]]\n",
    "statistics = name + [stat(fnc[i], val[i]) for i in range(len(fnc))]\n",
    "corr = np.corrcoef(theta)[0][1]\n",
    "\n",
    "# arrange nested list\n",
    "t = list(zip(*statistics))\n",
    "table = [t[0], t[1]]\n",
    "\n",
    "head = [\"Param\", \"Mean\", \"Median\", \"Var\", \"Std\", \"Quant 5%\", \"Quant 95%\"]\n",
    "\n",
    "# print in tabular format\n",
    "print(tabulate(table, headers = head, tablefmt = \"fancy_grid\"))\n",
    "print(\"corr-coef:\", corr) # just to check..."
   ]
  }
 ],
 "metadata": {
  "kernelspec": {
   "display_name": "Python 3",
   "language": "python",
   "name": "python3"
  },
  "language_info": {
   "codemirror_mode": {
    "name": "ipython",
    "version": 3
   },
   "file_extension": ".py",
   "mimetype": "text/x-python",
   "name": "python",
   "nbconvert_exporter": "python",
   "pygments_lexer": "ipython3",
   "version": "3.7.6"
  }
 },
 "nbformat": 4,
 "nbformat_minor": 4
}
