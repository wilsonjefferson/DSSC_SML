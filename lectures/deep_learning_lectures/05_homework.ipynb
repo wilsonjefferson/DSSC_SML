{
 "cells": [
  {
   "cell_type": "markdown",
   "metadata": {
    "collapsed": true,
    "pycharm": {
     "name": "#%% md\n"
    }
   },
   "source": [
    "## Homework\n",
    "Choose a different dataset (MNIST, FashioMNIST, CIFAR100, ...) and train you own\n",
    "model by subclassing nn.Module, as I did in notebook 05.\n",
    "\n",
    "Optional: scramble it and observe if there is a significant change in performance.\n",
    "\n",
    "For any question, contact me by email.\n",
    "\n"
   ]
  }
 ],
 "metadata": {
  "kernelspec": {
   "display_name": "Python 3",
   "language": "python",
   "name": "python3"
  },
  "language_info": {
   "codemirror_mode": {
    "name": "ipython",
    "version": 2
   },
   "file_extension": ".py",
   "mimetype": "text/x-python",
   "name": "python",
   "nbconvert_exporter": "python",
   "pygments_lexer": "ipython2",
   "version": "2.7.6"
  }
 },
 "nbformat": 4,
 "nbformat_minor": 0
}