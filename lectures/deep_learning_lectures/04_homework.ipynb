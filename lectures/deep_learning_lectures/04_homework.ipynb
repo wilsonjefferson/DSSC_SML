{
 "cells": [
  {
   "cell_type": "markdown",
   "metadata": {
    "collapsed": true,
    "pycharm": {
     "name": "#%% md\n"
    }
   },
   "source": [
    "## Homework\n",
    "By starting from the notebook 04, build your own model by using nn.Sequential and perform some changes to the\n",
    "training setting (like the optimizer, or its parameters). Then, train it on the spiral dataset and observe how the space\n",
    "is separated by plotting it.\n",
    "\n",
    "For any question, contact me by email."
   ]
  }
 ],
 "metadata": {
  "kernelspec": {
   "display_name": "Python 3",
   "language": "python",
   "name": "python3"
  },
  "language_info": {
   "codemirror_mode": {
    "name": "ipython",
    "version": 2
   },
   "file_extension": ".py",
   "mimetype": "text/x-python",
   "name": "python",
   "nbconvert_exporter": "python",
   "pygments_lexer": "ipython2",
   "version": "2.7.6"
  }
 },
 "nbformat": 4,
 "nbformat_minor": 0
}