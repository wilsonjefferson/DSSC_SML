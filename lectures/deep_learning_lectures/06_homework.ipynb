{
 "cells": [
  {
   "cell_type": "markdown",
   "source": [
    "### Homework\n",
    "\n",
    "Create a new convolutional module and implement it by deriving it from nn.Module.\n",
    "Then, use it in a neural network and test it in CIFAR10.\n",
    "\n",
    "Your creativity and the documentation are your best friends ;)\n",
    "Remember that a a layer is just a function transforming a tensor. So, I am asking you to think of\n",
    "transformation $f: \\mathcal{R}^{b \\times c_1 \\times l_1 \\times l_1} \\rightarrow \\mathcal{R}^{b \\times c_2 \\times l_2 \\times l_2}$.\n",
    "\n",
    "Don't be scared by all those superscripts. During the training, you are dealing with minibatches of images, which are\n",
    "just 4-order arrays:\n",
    "- the first dimension is the batch axis, and $b$ is the batch size;\n",
    "- the second dimension indicates the number of channels of your filters, $c$;\n",
    "- the third and fourth dimensions indicates the height and width of the input and output filters.\n",
    "They are typically the same, since we deal with square $l\\times l$ filters, but in general they could be different.\n",
    "\n",
    "Notice that in our bottleneck layer we had $l_1 = l_2$ and $c_1 = c_2$.\n",
    "The bottleneck transformation preserves the tensor dimension.\n",
    "\n",
    "Have fun, and for now, do not worry to much about getting super performance. As usual, for any question or advise you\n",
    "can reach me by email.\n",
    "\n"
   ],
   "metadata": {
    "collapsed": false,
    "pycharm": {
     "name": "#%% md\n"
    }
   }
  }
 ],
 "metadata": {
  "kernelspec": {
   "display_name": "Python 3",
   "language": "python",
   "name": "python3"
  },
  "language_info": {
   "codemirror_mode": {
    "name": "ipython",
    "version": 2
   },
   "file_extension": ".py",
   "mimetype": "text/x-python",
   "name": "python",
   "nbconvert_exporter": "python",
   "pygments_lexer": "ipython2",
   "version": "2.7.6"
  }
 },
 "nbformat": 4,
 "nbformat_minor": 0
}