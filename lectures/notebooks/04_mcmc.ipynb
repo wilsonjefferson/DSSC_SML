{
 "cells": [
  {
   "cell_type": "markdown",
   "metadata": {},
   "source": [
    "## Markov Chain Monte Carlo"
   ]
  },
  {
   "cell_type": "markdown",
   "metadata": {},
   "source": [
    "Suppose we wish to draw samples from the posterior distribution\n",
    "$$\n",
    "p(x) = \\int_\\theta p(x|\\theta) p (\\theta) d \\theta\n",
    "$$\n",
    "and that the computation of the normalization factor is intractable, due to the high dimensionality of the problem.\n",
    "\n",
    "**Markov Chain Monte Carlo** is a sampling method which scales well will the dimensionality of the sample space. Instead of directly sampling from $p(x)$, we sample from a Markov chain whose stationary distribution equals $p(x)$. The longer the chains, the more closely the distribution of the sample matches the target distribution."
   ]
  },
  {
   "cell_type": "markdown",
   "metadata": {},
   "source": [
    "### Hamiltonian Monte Carlo\n",
    "\n"
   ]
  },
  {
   "cell_type": "markdown",
   "metadata": {},
   "source": [
    "### Example\n",
    "Let's go back to the example from notebook 02:\n",
    "\n",
    "$$weight \\, | \\, guess \\sim \\mathcal{N}(guess, 1)$$\n",
    "\n",
    "$$ measurement \\, | \\, guess, weight \\sim \\mathcal{N}(weight, 0.75^2) $$\n"
   ]
  },
  {
   "cell_type": "code",
   "execution_count": 3,
   "metadata": {},
   "outputs": [],
   "source": [
    "import torch\n",
    "import pyro\n",
    "import pyro.distributions as dist\n",
    "pyro.set_rng_seed(1)\n",
    "\n",
    "# define model\n",
    "def scale(guess):\n",
    "    weight = pyro.sample(\"weight\", dist.Normal(guess, 1.0))\n",
    "    measurement = pyro.sample(\"measurement\", dist.Normal(weight, 0.75))\n",
    "    return measurement"
   ]
  },
  {
   "cell_type": "markdown",
   "metadata": {},
   "source": [
    "Suppose that we observe a measurement of the object corresponding to 14 kg. We want to sample from the distribution of the weight given both the observation and an input knowledge `guess = 8.5`. In other words, we wish to infer the distribution \n",
    "\n",
    "$$weight \\, | \\, guess, measurement=9.5 \\sim ?$$\n",
    "\n",
    "Pyro provides a method called `pyro.condition` that takes a model and a dictionary of observations and returns a new model which is fixed on the measurement observation."
   ]
  },
  {
   "cell_type": "code",
   "execution_count": 4,
   "metadata": {},
   "outputs": [],
   "source": [
    "# condition the model on a single observation\n",
    "conditioned_scale = pyro.condition(scale, data={\"measurement\": torch.tensor(9.5)})"
   ]
  },
  {
   "cell_type": "markdown",
   "metadata": {},
   "source": [
    "`conditioned_scale()` model could be equivalently defined as follows:"
   ]
  },
  {
   "cell_type": "code",
   "execution_count": 1,
   "metadata": {},
   "outputs": [],
   "source": [
    "# using obs parameter\n",
    "def conditioned_scale(guess): \n",
    "    weight = pyro.sample(\"weight\", dist.Normal(guess, 1.))\n",
    "    measurement = pyro.sample(\"measurement\", dist.Normal(weight, 1.), obs=9.5)\n",
    "    return measurement"
   ]
  },
  {
   "cell_type": "markdown",
   "metadata": {},
   "source": [
    "Now that we have conditioned on an observation of measurement, we can perform inference.\n",
    "This is an example of how you would write a posterior distribution on the conditioned scale model using MCMC."
   ]
  },
  {
   "cell_type": "code",
   "execution_count": 28,
   "metadata": {},
   "outputs": [
    {
     "name": "stderr",
     "output_type": "stream",
     "text": [
      "Sample: 100%|██████████| 1050/1050 [00:07, 146.28it/s, step size=3.48e-01, acc. prob=0.996]\n"
     ]
    }
   ],
   "source": [
    "from pyro.infer.mcmc import MCMC, HMC\n",
    "\n",
    "hmc_kernel = HMC(model=conditioned_scale, step_size=0.9, num_steps=4)\n",
    "mcmc = MCMC(hmc_kernel, num_samples=1000, warmup_steps=50)\n",
    "\n",
    "# guess prior weight\n",
    "data = 10.\n",
    "posterior = mcmc.run(data)"
   ]
  },
  {
   "cell_type": "code",
   "execution_count": 29,
   "metadata": {},
   "outputs": [
    {
     "data": {
      "text/plain": [
       "tensor(9.6785)"
      ]
     },
     "execution_count": 29,
     "metadata": {},
     "output_type": "execute_result"
    }
   ],
   "source": [
    "mcmc.get_samples()['weight'].mean(0)"
   ]
  },
  {
   "cell_type": "code",
   "execution_count": 32,
   "metadata": {},
   "outputs": [
    {
     "data": {
      "text/plain": [
       "Text(0, 0.5, '#')"
      ]
     },
     "execution_count": 32,
     "metadata": {},
     "output_type": "execute_result"
    },
    {
     "data": {
      "image/png": "[encoded data removed]",
      "text/plain": [
       "<Figure size 432x288 with 1 Axes>"
      ]
     },
     "metadata": {
      "needs_background": "light"
     },
     "output_type": "display_data"
    }
   ],
   "source": [
    "import matplotlib.pyplot as plt\n",
    "import seaborn as sns\n",
    "\n",
    "x = mcmc.get_samples()['weight']\n",
    "sns.distplot(x)\n",
    "\n",
    "plt.title(\"P(weight | measurement = 14)\")\n",
    "plt.xlabel(\"Weight\")\n",
    "plt.ylabel(\"#\")"
   ]
  },
  {
   "cell_type": "markdown",
   "metadata": {},
   "source": [
    "### Posterior predictive checking"
   ]
  },
  {
   "cell_type": "code",
   "execution_count": null,
   "metadata": {},
   "outputs": [],
   "source": []
  },
  {
   "cell_type": "markdown",
   "metadata": {},
   "source": [
    "## References\n",
    "- [tutorial on deep probabilistic modeling](https://bookdown.org/robertness/causalml/docs/tutorial-on-deep-probabilitic-modeling-with-pyro.html)"
   ]
  }
 ],
 "metadata": {
  "kernelspec": {
   "display_name": "Python 3",
   "language": "python",
   "name": "python3"
  },
  "language_info": {
   "codemirror_mode": {
    "name": "ipython",
    "version": 3
   },
   "file_extension": ".py",
   "mimetype": "text/x-python",
   "name": "python",
   "nbconvert_exporter": "python",
   "pygments_lexer": "ipython3",
   "version": "3.6.9"
  }
 },
 "nbformat": 4,
 "nbformat_minor": 2
}
