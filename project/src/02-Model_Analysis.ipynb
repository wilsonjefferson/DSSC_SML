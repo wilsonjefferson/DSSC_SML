{
 "cells": [
  {
   "cell_type": "markdown",
   "metadata": {},
   "source": [
    "## Data Preprocessing"
   ]
  },
  {
   "cell_type": "code",
   "execution_count": 1,
   "metadata": {},
   "outputs": [],
   "source": [
    "import os\n",
    "from glob import glob\n",
    "import numpy as np\n",
    "import pandas as pd\n",
    "from PIL import Image\n",
    "from tqdm.notebook import tqdm\n",
    "import matplotlib.pyplot as plt\n",
    "\n",
    "import torch\n",
    "import torch.nn as nn\n",
    "import torch.nn.functional as F\n",
    "from torch.utils.data import Dataset\n",
    "import torch.optim as optim\n",
    "\n",
    "from torchvision import transforms\n",
    "from torchvision.datasets import ImageFolder\n",
    "from torchvision.utils import make_grid\n"
   ]
  },
  {
   "cell_type": "code",
   "execution_count": 2,
   "metadata": {},
   "outputs": [
    {
     "name": "stdout",
     "output_type": "stream",
     "text": [
      "Running on cuda:0\n"
     ]
    }
   ],
   "source": [
    "# check if machine has gpu\n",
    "device = torch.device(\"cuda:0\" if torch.cuda.is_available() else \"cpu\")\n",
    "print(\"Running on\",device)"
   ]
  },
  {
   "cell_type": "code",
   "execution_count": 3,
   "metadata": {},
   "outputs": [
    {
     "name": "stdout",
     "output_type": "stream",
     "text": [
      "Number of images in Training file: 67692\n"
     ]
    }
   ],
   "source": [
    "# data path that training set is located\n",
    "path = \"../data/fruits/fruits-360/\"\n",
    "# this joins the path + folder and each files e.g. '../data/fruits/fruits-360/Training/Apple Braeburn/115_100.jpg'\n",
    "files_training = glob(os.path.join(path,'Training', '*/*.jpg'))\n",
    "num_images = len(files_training)\n",
    "print('Number of images in Training file:', num_images)"
   ]
  },
  {
   "cell_type": "code",
   "execution_count": 4,
   "metadata": {},
   "outputs": [
    {
     "name": "stdout",
     "output_type": "stream",
     "text": [
      "class             Count:\n",
      "------------------------\n",
      "Apple Braeburn       492\n",
      "Apple Crimson Snow   444\n",
      "Apple Golden 1       480\n",
      "Apple Golden 2       492\n",
      "Apple Golden 3       481\n",
      "Apple Granny Smith   492\n",
      "Apple Pink Lady      456\n",
      "Apple Red 1          492\n",
      "Apple Red 2          492\n",
      "Apple Red 3          429\n",
      "Apple Red Delicious  490\n",
      "Apple Red Yellow 1   492\n",
      "Apple Red Yellow 2   672\n",
      "Apricot              492\n",
      "Avocado              427\n",
      "Avocado ripe         491\n",
      "Banana               490\n",
      "Banana Lady Finger   450\n",
      "Beetroot             450\n",
      "Blueberry            462\n",
      "Cactus fruit         490\n",
      "Cantaloupe 1         492\n",
      "Cantaloupe 2         492\n",
      "Carambula            490\n",
      "Cauliflower          702\n",
      "Cherry 1             492\n",
      "Cherry 2             738\n",
      "Cherry Rainier       738\n",
      "Cherry Wax Black     492\n",
      "Cherry Wax Red       492\n",
      "Cherry Wax Yellow    492\n",
      "Chestnut             450\n",
      "Clementine           490\n",
      "Cocos                490\n",
      "Corn                 450\n",
      "Corn Husk            462\n",
      "Cucumber Ripe 2      468\n",
      "Dates                490\n",
      "Eggplant             468\n",
      "Fig                  702\n",
      "Ginger Root          297\n",
      "Granadilla           490\n",
      "Grape Blue           984\n",
      "Grape Pink           492\n",
      "Grape White          490\n",
      "Grape White 2        490\n",
      "Grape White 3        492\n",
      "Grape White 4        471\n",
      "Grapefruit Pink      490\n",
      "Grapefruit White     492\n",
      "Guava                490\n",
      "Hazelnut             464\n",
      "Huckleberry          490\n",
      "Kaki                 490\n",
      "Kiwi                 466\n",
      "Kumquats             490\n",
      "Lemon                492\n",
      "Lemon Meyer          490\n",
      "Limes                490\n",
      "Lychee               490\n",
      "Mandarine            490\n",
      "Mango                490\n",
      "Mango Red            426\n",
      "Mangostan            300\n",
      "Maracuja             490\n",
      "Melon Piel de Sapo   738\n",
      "Mulberry             492\n",
      "Nectarine            492\n",
      "Nectarine Flat       480\n",
      "Nut Forest           654\n",
      "Nut Pecan            534\n",
      "Onion Red            450\n",
      "Onion Red Peeled     445\n",
      "Onion White          438\n",
      "Papaya               492\n",
      "Passion Fruit        490\n",
      "Peach                492\n",
      "Peach 2              738\n",
      "Peach Flat           492\n",
      "Pear                 492\n",
      "Pear 2               696\n",
      "Pear Abate           490\n",
      "Pear Forelle         702\n",
      "Pear Kaiser          300\n",
      "Pear Monster         490\n",
      "Pear Red             666\n",
      "Pear Stone           711\n",
      "Pear Williams        490\n",
      "Pepino               490\n",
      "Pepper Green         444\n",
      "Pepper Orange        702\n",
      "Pepper Red           666\n",
      "Pepper Yellow        666\n",
      "Banana Red           490\n",
      "Cucumber Ripe        392\n",
      "Kohlrabi             471\n",
      "Orange               479\n",
      "Physalis             492\n",
      "Physalis with Husk   492\n",
      "Pineapple            490\n",
      "Pineapple Mini       493\n",
      "Pitahaya Red         490\n",
      "Plum                 447\n",
      "Plum 2               420\n",
      "Plum 3               900\n",
      "Pomegranate          492\n",
      "Pomelo Sweetie       450\n",
      "Potato Red           450\n",
      "Potato Red Washed    453\n",
      "Potato Sweet         450\n",
      "Potato White         450\n",
      "Quince               490\n",
      "Rambutan             492\n",
      "Raspberry            490\n",
      "Redcurrant           492\n",
      "Salak                490\n",
      "Strawberry           492\n",
      "Strawberry Wedge     738\n",
      "Tamarillo            490\n",
      "Tangelo              490\n",
      "Tomato 1             738\n",
      "Tomato 2             672\n",
      "Tomato 3             738\n",
      "Tomato 4             479\n",
      "Tomato Cherry Red    492\n",
      "Tomato Heart         684\n",
      "Tomato Maroon        367\n",
      "Tomato not Ripened   474\n",
      "Tomato Yellow        459\n",
      "Walnut               735\n",
      "Watermelon           475\n",
      "\n",
      "Minumum images per category: 297 Category: Ginger Root\n",
      "Average number of Images per Category: 517\n",
      "Total number of classes: 131\n"
     ]
    }
   ],
   "source": [
    "# just to see how many images we have for each label, minimum one and average one, with nice printing style\n",
    "\n",
    "min_images = 1000\n",
    "im_cnt = []\n",
    "class_names = []\n",
    "print('{:18s}'.format('class'), end='')\n",
    "print('Count:')\n",
    "print('-' * 24)\n",
    "for folder in os.listdir(os.path.join(path, 'Training')):\n",
    "    folder_num = len(os.listdir(os.path.join(path,'Training',folder)))\n",
    "    im_cnt.append(folder_num)\n",
    "    class_names.append(folder)\n",
    "    print('{:20s}'.format(folder), end=' ')\n",
    "    print(folder_num)\n",
    "        \n",
    "num_classes = len(class_names)\n",
    "print(\"\\nMinumum images per category:\", np.min(im_cnt), 'Category:', class_names[im_cnt.index(np.min(im_cnt))])    \n",
    "print('Average number of Images per Category: {:.0f}'.format(np.array(im_cnt).mean()))\n",
    "print('Total number of classes: {}'.format(num_classes))"
   ]
  },
  {
   "cell_type": "code",
   "execution_count": 5,
   "metadata": {},
   "outputs": [],
   "source": [
    "# Just to guess pop_mean and pop_std\n",
    "\n",
    "tensor_transform = transforms.Compose([transforms.ToTensor()])\n",
    "\n",
    "training_data = ImageFolder(os.path.join(path, 'Training'), tensor_transform)\n",
    "\n",
    "data_loader = torch.utils.data.DataLoader(training_data, batch_size=512, shuffle=True)"
   ]
  },
  {
   "cell_type": "code",
   "execution_count": 6,
   "metadata": {
    "scrolled": true
   },
   "outputs": [
    {
     "name": "stdout",
     "output_type": "stream",
     "text": [
      "CPU times: user 2 µs, sys: 0 ns, total: 2 µs\n",
      "Wall time: 4.53 µs\n",
      "[0.6840367, 0.5786325, 0.5037564]\n",
      "[0.30334985, 0.3599262, 0.3913685]\n"
     ]
    }
   ],
   "source": [
    "%time\n",
    "# this part takes a bit long\n",
    "pop_mean = [0.6840367,0.5786325,0.5037564]  # normally it was --> []\n",
    "pop_std = [0.30334985,0.3599262,0.3913685]\n",
    "\n",
    "# for i, data in tqdm(enumerate(data_loader, 0)):\n",
    "#     numpy_image = data[0].numpy()\n",
    "    \n",
    "#     batch_mean = np.mean(numpy_image, axis=(0,2,3))\n",
    "#     batch_std = np.std(numpy_image, axis=(0,2,3))\n",
    "    \n",
    "#     pop_mean.append(batch_mean)\n",
    "#     pop_std.append(batch_std)\n",
    "\n",
    "# pop_mean = np.array(pop_mean).mean(axis=0)\n",
    "# pop_std = np.array(pop_std).mean(axis=0)\n",
    "\n",
    "# that is why I am inserting last values \n",
    "\n",
    "print(pop_mean)\n",
    "print(pop_std)"
   ]
  },
  {
   "cell_type": "code",
   "execution_count": 7,
   "metadata": {},
   "outputs": [],
   "source": [
    "np.random.seed(123)\n",
    "shuffle = np.random.permutation(num_images)"
   ]
  },
  {
   "cell_type": "code",
   "execution_count": 8,
   "metadata": {},
   "outputs": [
    {
     "name": "stdout",
     "output_type": "stream",
     "text": [
      "Total number of images: 67692\n",
      "Number images in validation set: 13538\n",
      "Number images in train set: 54154\n"
     ]
    }
   ],
   "source": [
    "# split validation images\n",
    "\n",
    "split_val = int(num_images * 0.2)\n",
    "print('Total number of images:', num_images)\n",
    "print('Number images in validation set:',len(shuffle[:split_val]))\n",
    "print('Number images in train set:',len(shuffle[split_val:]))"
   ]
  },
  {
   "cell_type": "code",
   "execution_count": 9,
   "metadata": {},
   "outputs": [],
   "source": [
    "class FruitTrainDataset(Dataset):\n",
    "    def __init__(self, files, shuffle, split_val, class_names, transform=transforms.ToTensor()):\n",
    "        self.shuffle = shuffle\n",
    "        self.class_names = class_names\n",
    "        self.split_val = split_val\n",
    "        self.data = np.array([files[i] for i in shuffle[split_val:]])\n",
    "        self.transform=transform\n",
    "        \n",
    "    def __len__(self):\n",
    "        return len(self.data)\n",
    "    \n",
    "    def __getitem__(self, idx):\n",
    "        img = Image.open(self.data[idx])\n",
    "        name = self.data[idx].split('/')[-2]\n",
    "        y = self.class_names.index(name)\n",
    "        img = self.transform(img)\n",
    "            \n",
    "        return img, y\n",
    "\n",
    "class FruitValidDataset(Dataset):\n",
    "    def __init__(self, files, shuffle, split_val, class_names, transform=transforms.ToTensor()):\n",
    "        self.shuffle = shuffle\n",
    "        self.class_names = class_names\n",
    "        self.split_val = split_val\n",
    "        self.data = np.array([files[i] for i in shuffle[:split_val]])\n",
    "        self.transform=transform\n",
    "        \n",
    "    def __len__(self):\n",
    "        return len(self.data)\n",
    "    \n",
    "    def __getitem__(self, idx):\n",
    "        img = Image.open(self.data[idx])\n",
    "        name = self.data[idx].split('/')[-2]\n",
    "        y = self.class_names.index(name)\n",
    "        img = self.transform(img)\n",
    "            \n",
    "        return img, y\n",
    "    \n",
    "class FruitTestDataset(Dataset):\n",
    "    def __init__(self, path, class_names, transform=transforms.ToTensor()):\n",
    "        self.class_names = class_names\n",
    "        self.data = np.array(glob(os.path.join(path, '*/*.jpg')))\n",
    "        self.transform=transform\n",
    "        \n",
    "    def __len__(self):\n",
    "        return len(self.data)\n",
    "    \n",
    "    def __getitem__(self, idx):\n",
    "        img = Image.open(self.data[idx])\n",
    "        name = self.data[idx].split('/')[-2]\n",
    "        y = self.class_names.index(name)\n",
    "        img = self.transform(img)\n",
    "            \n",
    "        return img, y"
   ]
  },
  {
   "cell_type": "code",
   "execution_count": 10,
   "metadata": {},
   "outputs": [],
   "source": [
    "data_transforms = {\n",
    "    'train': transforms.Compose([\n",
    "        transforms.RandomHorizontalFlip(),\n",
    "        transforms.RandomVerticalFlip(),\n",
    "        transforms.ToTensor(),\n",
    "        transforms.Normalize(pop_mean, pop_std) # These were the mean and standard deviations that we calculated earlier.\n",
    "    ]),\n",
    "    'Test': transforms.Compose([\n",
    "        transforms.ToTensor(),\n",
    "        transforms.Normalize(pop_mean, pop_std) # These were the mean and standard deviations that we calculated earlier.\n",
    "    ]),\n",
    "    'valid': transforms.Compose([\n",
    "        transforms.ToTensor(),\n",
    "        transforms.Normalize(pop_mean, pop_std) # These were the mean and standard deviations that we calculated earlier.\n",
    "    ])\n",
    "}\n",
    "\n",
    "train_dataset = FruitTrainDataset(files_training, shuffle, split_val, class_names, data_transforms['train'])\n",
    "valid_dataset = FruitValidDataset(files_training, shuffle, split_val, class_names, data_transforms['valid'])\n",
    "test_dataset = FruitTestDataset(\"../data/fruits/fruits-360/Test\", class_names, transform=data_transforms['Test'])\n",
    "\n",
    "train_loader = torch.utils.data.DataLoader(train_dataset, batch_size=32, shuffle=True)\n",
    "valid_loader = torch.utils.data.DataLoader(valid_dataset, batch_size=32, shuffle=True)\n",
    "test_loader = torch.utils.data.DataLoader(test_dataset, batch_size=32, shuffle=True)"
   ]
  },
  {
   "cell_type": "code",
   "execution_count": 11,
   "metadata": {},
   "outputs": [],
   "source": [
    "dataloaders = {'train': train_loader,\n",
    "              'valid': valid_loader,\n",
    "              'Test': test_loader}\n",
    "dataset_sizes = {\n",
    "    'train': len(train_dataset),\n",
    "    'valid': len(valid_dataset),\n",
    "    'Test': len(test_dataset)\n",
    "}"
   ]
  },
  {
   "cell_type": "markdown",
   "metadata": {},
   "source": [
    "## Network"
   ]
  },
  {
   "cell_type": "code",
   "execution_count": 12,
   "metadata": {},
   "outputs": [
    {
     "name": "stdout",
     "output_type": "stream",
     "text": [
      "Net(\n",
      "  (fc1): Linear(in_features=30000, out_features=64, bias=True)\n",
      "  (fc2): Linear(in_features=64, out_features=64, bias=True)\n",
      "  (fc3): Linear(in_features=64, out_features=64, bias=True)\n",
      "  (fc4): Linear(in_features=64, out_features=131, bias=True)\n",
      ")\n"
     ]
    }
   ],
   "source": [
    "# just to start from the basic NN and to observe how does it perform on data\n",
    "# with horizontal and vertical flip we have 3x100x100\n",
    "# batch size was 64 adn reduced to 32 to get better performance\n",
    "\n",
    "class Net(nn.Module):\n",
    "    def __init__(self):\n",
    "        super().__init__() # initialize the parent class methods\n",
    "        self.fc1 = nn.Linear(3*100*100, 64)\n",
    "        self.fc2 = nn.Linear(64, 64)\n",
    "        self.fc3 = nn.Linear(64, 64)\n",
    "        self.fc4 = nn.Linear(64, 131)\n",
    "        \n",
    "    def forward(self,x):\n",
    "        x = F.relu(self.fc1(x))\n",
    "        x = F.relu(self.fc2(x))\n",
    "        x = F.relu(self.fc3(x))\n",
    "        x = self.fc4(x)\n",
    "        \n",
    "        return F.log_softmax(x,dim=1)\n",
    "    \n",
    "net = Net()\n",
    "print(net)"
   ]
  },
  {
   "cell_type": "code",
   "execution_count": 13,
   "metadata": {},
   "outputs": [],
   "source": [
    "# move network to GPU\n",
    "net = Net().to(device)\n",
    "criterion = nn.CrossEntropyLoss()\n",
    "optimizer = optim.SGD(net.parameters(), lr=0.001, momentum=0.7)"
   ]
  },
  {
   "cell_type": "markdown",
   "metadata": {},
   "source": [
    "## Model Analysis Part"
   ]
  },
  {
   "cell_type": "code",
   "execution_count": 20,
   "metadata": {
    "scrolled": true
   },
   "outputs": [
    {
     "data": {
      "application/vnd.jupyter.widget-view+json": {
       "model_id": "342c774ada914c8faaf8a80a2498a0d5",
       "version_major": 2,
       "version_minor": 0
      },
      "text/plain": [
       "HBox(children=(FloatProgress(value=0.0, max=25.0), HTML(value='')))"
      ]
     },
     "metadata": {},
     "output_type": "display_data"
    },
    {
     "name": "stdout",
     "output_type": "stream",
     "text": [
      "epoch 0\n",
      "epoch 1\n",
      "epoch 2\n",
      "epoch 3\n",
      "epoch 4\n",
      "epoch 5\n",
      "epoch 6\n",
      "epoch 7\n",
      "epoch 8\n",
      "epoch 9\n",
      "epoch 10\n",
      "epoch 11\n",
      "epoch 12\n",
      "epoch 13\n",
      "epoch 14\n",
      "epoch 15\n",
      "epoch 16\n",
      "epoch 17\n",
      "epoch 18\n",
      "epoch 19\n",
      "epoch 20\n",
      "epoch 21\n",
      "epoch 22\n",
      "epoch 23\n",
      "epoch 24\n",
      "\n",
      "Finished Training\n"
     ]
    }
   ],
   "source": [
    "# let's train the network\n",
    "def train(net):\n",
    "    with open(\"../data/model_4.log\", \"a\") as f:\n",
    "        for epoch in tqdm(range(20)):\n",
    "            print(\"epoch {}\".format(epoch))\n",
    "            running_loss = 0.0\n",
    "            correct = 0\n",
    "            total = 0\n",
    "\n",
    "            val_loss = 0.0\n",
    "            val_cor = 0\n",
    "            val_tot = 0\n",
    "\n",
    "            for i,data in enumerate(train_loader, 0):\n",
    "                # get the inputs; data is a list of [inputs, labels]\n",
    "                inputs, labels = data[0].to(device), data[1].to(device)\n",
    "\n",
    "                # zero the parameter gradients\n",
    "                optimizer.zero_grad()\n",
    "\n",
    "                # forward + backward + optimize\n",
    "                outputs = net(inputs.view(-1,3*100*100))\n",
    "\n",
    "                # in sample accuracy calculation\n",
    "                _, predicted = torch.max(outputs, 1) \n",
    "                a = predicted == labels\n",
    "                correct += np.count_nonzero(a.cpu())\n",
    "                total += len(a)\n",
    "\n",
    "                loss = criterion(outputs, labels)\n",
    "                loss.backward()\n",
    "                optimizer.step()\n",
    "\n",
    "                # print statistics\n",
    "                running_loss += loss.item()\n",
    "\n",
    "                if i % 5 == 4 :    # print every 100 mini-batches\n",
    "                    val_data = next(iter(train_loader))\n",
    "                    val_inputs, val_labels = val_data[0].to(device), val_data[1].to(device)\n",
    "\n",
    "                    val_outputs = net(val_inputs.view(-1,3*100*100))\n",
    "\n",
    "                    # in sample accuracy calculation\n",
    "                    _, val_predicted = torch.max(val_outputs, 1) \n",
    "                    b = val_predicted == val_labels\n",
    "                    val_cor += np.count_nonzero(a.cpu())\n",
    "                    val_tot += len(b)\n",
    "                    val_loss = criterion(val_outputs, val_labels)\n",
    "                    val_loss += val_loss.item()\n",
    "\n",
    "                    #print('[%d, %5d] loss: %.3f, in sample accuracy: %.3f, val_loss: %.3f, val accuracy : %.3f' %(epoch, i + 1, running_loss / 5, correct/total,\n",
    "                    #                                                       val_loss / 5, val_cor/val_tot))\n",
    "                    \n",
    "                    f.write(f\"{float(correct/total)},{float(running_loss / 5)},{float(val_cor/val_tot)},{float(val_loss / 5)}\\n\")\n",
    "                    \n",
    "                    running_loss = 0.0\n",
    "                    correct = 0\n",
    "                    total = 0\n",
    "\n",
    "                    val_loss = 0.0\n",
    "                    val_cor = 0\n",
    "                    val_tot = 0\n",
    "\n",
    "        print('Finished Training')\n",
    "    \n",
    "train(net)"
   ]
  },
  {
   "cell_type": "raw",
   "metadata": {},
   "source": [
    "# fnn_net is the first model\n",
    "# second one is different arch.\n",
    "# third one is the batch size is 32 instead of 64\n",
    "# 4th one is batch size 32 and with 20 epoch accuracy is 91%\n",
    "\n",
    "PATH = \"../models/fnn_net_4.pth\"\n",
    "torch.save(net.state_dict(),PATH)"
   ]
  },
  {
   "cell_type": "raw",
   "metadata": {},
   "source": [
    "# this is the function that I used for getting accuracy and loss for validation and train\n",
    "# but I am not sure since I had many errors, it worked in this way but not 100% how correct works with global\n",
    "\n",
    "\n",
    "correct = 0\n",
    "total = 0\n",
    "def fwd_pass(X,y , train = False):\n",
    "\n",
    "    if train:\n",
    "        net.zero_grad()\n",
    "        \n",
    "    outputs = net(X.view(-1,3*100*100))    \n",
    "    _, predicted = torch.max(outputs, 1) \n",
    "    \n",
    "    a = predicted == y\n",
    "    global correct \n",
    "    correct += np.count_nonzero(a.cpu())\n",
    "    global total\n",
    "    total  += len(a)\n",
    "    \n",
    "    acc = correct / total\n",
    "    loss = criterion(outputs, y)\n",
    "    \n",
    "    if train:\n",
    "        loss.backward()\n",
    "        optimizer.step()\n",
    "\n",
    "    return acc, loss "
   ]
  },
  {
   "cell_type": "raw",
   "metadata": {},
   "source": [
    "# This is the train function with above method, it's more succint but not sure if 100% correct\n",
    "\n",
    "def train(net):\n",
    "    with open(\"model.log\", \"a\") as f:\n",
    "        for epoch in tqdm(range(15)):\n",
    "            for i,data in enumerate(train_loader, 0):\n",
    "                # get the inputs; data is a list of [inputs, labels]\n",
    "                inputs, labels = data[0].to(device), data[1].to(device)\n",
    "\n",
    "                acc , loss = fwd_pass(inputs, labels, train=True)\n",
    "\n",
    "                #print(f\"Acc: {round(float(acc),2)}  Loss: {round(float(loss),4)}\")\n",
    "                if i % 5  == 0:\n",
    "                    val_data = next(iter(train_loader))\n",
    "                    val_inputs, val_labels = val_data[0].to(device), val_data[1].to(device)\n",
    "                    val_acc ,val_loss = fwd_pass(val_inputs,val_labels)    \n",
    "                    f.write(f\"{round(float(acc),3)},{round(float(loss), 4)},{round(float(val_acc),3)},{round(float(val_loss),4)}\\n\")\n",
    "train(net)\n",
    "    "
   ]
  },
  {
   "cell_type": "code",
   "execution_count": 15,
   "metadata": {},
   "outputs": [
    {
     "data": {
      "text/html": [
       "<div>\n",
       "<style scoped>\n",
       "    .dataframe tbody tr th:only-of-type {\n",
       "        vertical-align: middle;\n",
       "    }\n",
       "\n",
       "    .dataframe tbody tr th {\n",
       "        vertical-align: top;\n",
       "    }\n",
       "\n",
       "    .dataframe thead th {\n",
       "        text-align: right;\n",
       "    }\n",
       "</style>\n",
       "<table border=\"1\" class=\"dataframe\">\n",
       "  <thead>\n",
       "    <tr style=\"text-align: right;\">\n",
       "      <th></th>\n",
       "      <th>accuracy</th>\n",
       "      <th>loss</th>\n",
       "      <th>validation_accuracy</th>\n",
       "      <th>validation_loss</th>\n",
       "    </tr>\n",
       "  </thead>\n",
       "  <tbody>\n",
       "    <tr>\n",
       "      <th>0</th>\n",
       "      <td>0.000</td>\n",
       "      <td>4.874987</td>\n",
       "      <td>0.0000</td>\n",
       "      <td>1.962249</td>\n",
       "    </tr>\n",
       "    <tr>\n",
       "      <th>1</th>\n",
       "      <td>0.025</td>\n",
       "      <td>4.870480</td>\n",
       "      <td>0.0625</td>\n",
       "      <td>1.935207</td>\n",
       "    </tr>\n",
       "    <tr>\n",
       "      <th>2</th>\n",
       "      <td>0.025</td>\n",
       "      <td>4.866637</td>\n",
       "      <td>0.0000</td>\n",
       "      <td>1.951878</td>\n",
       "    </tr>\n",
       "    <tr>\n",
       "      <th>3</th>\n",
       "      <td>0.025</td>\n",
       "      <td>4.876933</td>\n",
       "      <td>0.0625</td>\n",
       "      <td>1.957932</td>\n",
       "    </tr>\n",
       "    <tr>\n",
       "      <th>4</th>\n",
       "      <td>0.000</td>\n",
       "      <td>4.873707</td>\n",
       "      <td>0.0000</td>\n",
       "      <td>1.939309</td>\n",
       "    </tr>\n",
       "  </tbody>\n",
       "</table>\n",
       "</div>"
      ],
      "text/plain": [
       "   accuracy      loss  validation_accuracy  validation_loss\n",
       "0     0.000  4.874987               0.0000         1.962249\n",
       "1     0.025  4.870480               0.0625         1.935207\n",
       "2     0.025  4.866637               0.0000         1.951878\n",
       "3     0.025  4.876933               0.0625         1.957932\n",
       "4     0.000  4.873707               0.0000         1.939309"
      ]
     },
     "execution_count": 15,
     "metadata": {},
     "output_type": "execute_result"
    }
   ],
   "source": [
    "model_data = pd.read_csv(\"../data/model_4.log\",names = [\"accuracy\",\"loss\",\"validation_accuracy\",\"validation_loss\"])\n",
    "model_data.head()"
   ]
  },
  {
   "cell_type": "code",
   "execution_count": 16,
   "metadata": {},
   "outputs": [
    {
     "data": {
      "image/png": "[encoded data removed]",
      "text/plain": [
       "<Figure size 1152x576 with 1 Axes>"
      ]
     },
     "metadata": {
      "needs_background": "light"
     },
     "output_type": "display_data"
    }
   ],
   "source": [
    "fig, ax = plt.subplots(figsize = (16,8))\n",
    "ax.set_xlabel('Epochs')\n",
    "ax.set_ylabel('Loss')\n",
    "ax.plot(model_data[\"loss\"], label = \"In Sample Loss\")\n",
    "ax.plot(model_data[\"validation_loss\"], label = \"Validation Loss\")\n",
    "leg = ax.legend()"
   ]
  },
  {
   "cell_type": "code",
   "execution_count": 17,
   "metadata": {},
   "outputs": [
    {
     "data": {
      "image/png": "[encoded data removed]",
      "text/plain": [
       "<Figure size 1152x576 with 1 Axes>"
      ]
     },
     "metadata": {
      "needs_background": "light"
     },
     "output_type": "display_data"
    }
   ],
   "source": [
    "fig, ax = plt.subplots(figsize = (16,8))\n",
    "ax.set_xlabel('Epochs')\n",
    "ax.set_ylabel('Accuracy')\n",
    "ax.plot(model_data[\"accuracy\"], label = \"In Sample Accuracy\")\n",
    "ax.plot(model_data[\"validation_accuracy\"], label = \"Validation Accuracy\")\n",
    "leg = ax.legend()"
   ]
  },
  {
   "cell_type": "code",
   "execution_count": 18,
   "metadata": {},
   "outputs": [
    {
     "data": {
      "application/vnd.jupyter.widget-view+json": {
       "model_id": "e07b48109d044046b87d0e2c8c64c3ab",
       "version_major": 2,
       "version_minor": 0
      },
      "text/plain": [
       "HBox(children=(FloatProgress(value=0.0, max=709.0), HTML(value='')))"
      ]
     },
     "metadata": {},
     "output_type": "display_data"
    },
    {
     "name": "stdout",
     "output_type": "stream",
     "text": [
      "\n",
      "Accuracy of the network on the test images: 89 %\n"
     ]
    }
   ],
   "source": [
    "def test(net):\n",
    "    correct = 0\n",
    "    total = 0\n",
    "    with torch.no_grad():\n",
    "        for data in tqdm(test_loader):\n",
    "            images, labels = data[0].to(device), data[1].to(device)\n",
    "            outputs = net(images.view(-1,3*100*100))\n",
    "            _, predicted = torch.max(outputs.data, 1)\n",
    "            total += labels.size(0)\n",
    "            correct += (predicted == labels).sum().item()\n",
    "\n",
    "    print('Accuracy of the network on the test images: %d %%' % (\n",
    "        100 * correct / total))\n",
    "\n",
    "test(net)"
   ]
  },
  {
   "cell_type": "code",
   "execution_count": 19,
   "metadata": {},
   "outputs": [
    {
     "data": {
      "application/vnd.jupyter.widget-view+json": {
       "model_id": "ed3b7bcb4d924eb8943ac8934aa40991",
       "version_major": 2,
       "version_minor": 0
      },
      "text/plain": [
       "HBox(children=(FloatProgress(value=0.0, max=709.0), HTML(value='')))"
      ]
     },
     "metadata": {},
     "output_type": "display_data"
    },
    {
     "name": "stdout",
     "output_type": "stream",
     "text": [
      "\n",
      "Accuracy of Apple Braeburn : 62 %\n",
      "Accuracy of Apple Crimson Snow : 66 %\n",
      "Accuracy of Apple Golden 1 : 100 %\n",
      "Accuracy of Apple Golden 2 : 94 %\n",
      "Accuracy of Apple Golden 3 : 93 %\n",
      "Accuracy of Apple Granny Smith : 81 %\n",
      "Accuracy of Apple Pink Lady : 90 %\n",
      "Accuracy of Apple Red 1 : 52 %\n",
      "Accuracy of Apple Red 2 : 100 %\n",
      "Accuracy of Apple Red 3 : 44 %\n",
      "Accuracy of Apple Red Delicious : 100 %\n",
      "Accuracy of Apple Red Yellow 1 : 100 %\n",
      "Accuracy of Apple Red Yellow 2 : 97 %\n",
      "Accuracy of Apricot : 79 %\n",
      "Accuracy of Avocado : 100 %\n",
      "Accuracy of Avocado ripe : 100 %\n",
      "Accuracy of Banana :  9 %\n",
      "Accuracy of Banana Lady Finger : 97 %\n",
      "Accuracy of Beetroot : 82 %\n",
      "Accuracy of Blueberry : 100 %\n",
      "Accuracy of Cactus fruit : 60 %\n",
      "Accuracy of Cantaloupe 1 : 100 %\n",
      "Accuracy of Cantaloupe 2 : 99 %\n",
      "Accuracy of Carambula : 100 %\n",
      "Accuracy of Cauliflower : 100 %\n",
      "Accuracy of Cherry 1 : 81 %\n",
      "Accuracy of Cherry 2 : 100 %\n",
      "Accuracy of Cherry Rainier : 94 %\n",
      "Accuracy of Cherry Wax Black : 100 %\n",
      "Accuracy of Cherry Wax Red : 100 %\n",
      "Accuracy of Cherry Wax Yellow : 100 %\n",
      "Accuracy of Chestnut : 93 %\n",
      "Accuracy of Clementine : 100 %\n",
      "Accuracy of Cocos : 90 %\n",
      "Accuracy of  Corn : 33 %\n",
      "Accuracy of Corn Husk : 69 %\n",
      "Accuracy of Cucumber Ripe 2 : 75 %\n",
      "Accuracy of Dates : 100 %\n",
      "Accuracy of Eggplant : 56 %\n",
      "Accuracy of   Fig : 96 %\n",
      "Accuracy of Ginger Root : 49 %\n",
      "Accuracy of Granadilla : 100 %\n",
      "Accuracy of Grape Blue : 98 %\n",
      "Accuracy of Grape Pink : 100 %\n",
      "Accuracy of Grape White : 100 %\n",
      "Accuracy of Grape White 2 : 84 %\n",
      "Accuracy of Grape White 3 : 100 %\n",
      "Accuracy of Grape White 4 : 100 %\n",
      "Accuracy of Grapefruit Pink : 100 %\n",
      "Accuracy of Grapefruit White : 100 %\n",
      "Accuracy of Guava : 100 %\n",
      "Accuracy of Hazelnut : 100 %\n",
      "Accuracy of Huckleberry : 100 %\n",
      "Accuracy of  Kaki : 90 %\n",
      "Accuracy of  Kiwi : 96 %\n",
      "Accuracy of Kumquats : 95 %\n",
      "Accuracy of Lemon : 99 %\n",
      "Accuracy of Lemon Meyer : 100 %\n",
      "Accuracy of Limes : 100 %\n",
      "Accuracy of Lychee : 100 %\n",
      "Accuracy of Mandarine : 100 %\n",
      "Accuracy of Mango : 100 %\n",
      "Accuracy of Mango Red : 83 %\n",
      "Accuracy of Mangostan : 68 %\n",
      "Accuracy of Maracuja : 75 %\n",
      "Accuracy of Melon Piel de Sapo : 96 %\n",
      "Accuracy of Mulberry : 100 %\n",
      "Accuracy of Nectarine : 82 %\n",
      "Accuracy of Nectarine Flat : 81 %\n",
      "Accuracy of Nut Forest : 100 %\n",
      "Accuracy of Nut Pecan : 92 %\n",
      "Accuracy of Onion Red : 97 %\n",
      "Accuracy of Onion Red Peeled : 100 %\n",
      "Accuracy of Onion White : 94 %\n",
      "Accuracy of Papaya : 100 %\n",
      "Accuracy of Passion Fruit : 100 %\n",
      "Accuracy of Peach : 66 %\n",
      "Accuracy of Peach 2 : 100 %\n",
      "Accuracy of Peach Flat : 59 %\n",
      "Accuracy of  Pear : 70 %\n",
      "Accuracy of Pear 2 : 20 %\n",
      "Accuracy of Pear Abate : 79 %\n",
      "Accuracy of Pear Forelle : 94 %\n",
      "Accuracy of Pear Kaiser : 95 %\n",
      "Accuracy of Pear Monster : 95 %\n",
      "Accuracy of Pear Red : 95 %\n",
      "Accuracy of Pear Stone : 89 %\n",
      "Accuracy of Pear Williams : 80 %\n",
      "Accuracy of Pepino : 100 %\n",
      "Accuracy of Pepper Green : 100 %\n",
      "Accuracy of Pepper Orange : 100 %\n",
      "Accuracy of Pepper Red : 100 %\n",
      "Accuracy of Pepper Yellow : 99 %\n",
      "Accuracy of Banana Red : 97 %\n",
      "Accuracy of Cucumber Ripe : 54 %\n",
      "Accuracy of Kohlrabi : 61 %\n",
      "Accuracy of Orange : 100 %\n",
      "Accuracy of Physalis : 100 %\n",
      "Accuracy of Physalis with Husk : 37 %\n",
      "Accuracy of Pineapple : 97 %\n",
      "Accuracy of Pineapple Mini : 95 %\n",
      "Accuracy of Pitahaya Red : 86 %\n",
      "Accuracy of  Plum : 86 %\n",
      "Accuracy of Plum 2 : 92 %\n",
      "Accuracy of Plum 3 : 87 %\n",
      "Accuracy of Pomegranate : 39 %\n",
      "Accuracy of Pomelo Sweetie : 100 %\n",
      "Accuracy of Potato Red : 78 %\n",
      "Accuracy of Potato Red Washed : 47 %\n",
      "Accuracy of Potato Sweet : 83 %\n",
      "Accuracy of Potato White : 92 %\n",
      "Accuracy of Quince : 100 %\n",
      "Accuracy of Rambutan : 95 %\n",
      "Accuracy of Raspberry : 100 %\n",
      "Accuracy of Redcurrant : 100 %\n",
      "Accuracy of Salak : 100 %\n",
      "Accuracy of Strawberry : 100 %\n",
      "Accuracy of Strawberry Wedge : 92 %\n",
      "Accuracy of Tamarillo : 100 %\n",
      "Accuracy of Tangelo : 100 %\n",
      "Accuracy of Tomato 1 : 100 %\n",
      "Accuracy of Tomato 2 : 100 %\n",
      "Accuracy of Tomato 3 : 100 %\n",
      "Accuracy of Tomato 4 : 98 %\n",
      "Accuracy of Tomato Cherry Red : 100 %\n",
      "Accuracy of Tomato Heart : 100 %\n",
      "Accuracy of Tomato Maroon : 100 %\n",
      "Accuracy of Tomato not Ripened : 100 %\n",
      "Accuracy of Tomato Yellow : 98 %\n",
      "Accuracy of Walnut : 100 %\n",
      "Accuracy of Watermelon : 65 %\n"
     ]
    }
   ],
   "source": [
    "# label wise accuracy\n",
    "class_correct = list(0. for i in range(131))\n",
    "class_total = list(0. for i in range(131))\n",
    "with torch.no_grad():\n",
    "    for data in tqdm(test_loader):\n",
    "        images, labels = data[0].to(device), data[1].to(device)\n",
    "        outputs = net(images.view(-1,3*100*100))\n",
    "        _, predicted = torch.max(outputs, 1)\n",
    "        c = (predicted == labels).squeeze()\n",
    "        \n",
    "        for i in range(len(labels)):\n",
    "            label = labels[i]\n",
    "            class_correct[label] += c[i].item()\n",
    "            class_total[label] += 1\n",
    "\n",
    "for i in range(131):\n",
    "    print('Accuracy of %5s : %2d %%' % (\n",
    "    class_names[i], 100 * class_correct[i] / class_total[i]))"
   ]
  },
  {
   "cell_type": "markdown",
   "metadata": {},
   "source": [
    "* In sample accuracy can be added to train function\n",
    "    * It is added\n",
    "\n",
    "* Plots will be done (loss + in_sample_accuracy etc) for model analysis\n",
    "    * Now I am on this stage, validation acc and loss will be calculated also plots will be done\n",
    "\n",
    "* This network will be extended (maybe adding new layer or changing other parameters)\n",
    "    * This matter tried and saved as a second model, but results didn't change too much and training set took more time, so we can exclude this option. As a last trial, batch size is changed from 64 to 32 and in this case network worked better and total accuracy increased to %86\n",
    "\n",
    "* Other architecture (especially CNN and its variants) will be tested"
   ]
  }
 ],
 "metadata": {
  "kernelspec": {
   "display_name": "Python 3",
   "language": "python",
   "name": "python3"
  },
  "language_info": {
   "codemirror_mode": {
    "name": "ipython",
    "version": 3
   },
   "file_extension": ".py",
   "mimetype": "text/x-python",
   "name": "python",
   "nbconvert_exporter": "python",
   "pygments_lexer": "ipython3",
   "version": "3.7.6"
  }
 },
 "nbformat": 4,
 "nbformat_minor": 4
}
